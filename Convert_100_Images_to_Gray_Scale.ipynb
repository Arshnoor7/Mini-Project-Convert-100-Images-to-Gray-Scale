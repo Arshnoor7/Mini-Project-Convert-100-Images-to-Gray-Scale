{
  "nbformat": 4,
  "nbformat_minor": 0,
  "metadata": {
    "colab": {
      "provenance": [],
      "authorship_tag": "ABX9TyO48TcoTO8gh3cnWzW4nAfB",
      "include_colab_link": true
    },
    "kernelspec": {
      "name": "python3",
      "display_name": "Python 3"
    },
    "language_info": {
      "name": "python"
    }
  },
  "cells": [
    {
      "cell_type": "markdown",
      "metadata": {
        "id": "view-in-github",
        "colab_type": "text"
      },
      "source": [
        "<a href=\"https://colab.research.google.com/github/Arshnoor7/Mini-Project-Convert-100-Images-to-Gray-Scale/blob/main/Convert_100_Images_to_Gray_Scale.ipynb\" target=\"_parent\"><img src=\"https://colab.research.google.com/assets/colab-badge.svg\" alt=\"Open In Colab\"/></a>"
      ]
    },
    {
      "cell_type": "code",
      "source": [
        "!mkdir images"
      ],
      "metadata": {
        "id": "TqvimAMAg8Gf"
      },
      "execution_count": 1,
      "outputs": []
    },
    {
      "cell_type": "code",
      "execution_count": 2,
      "metadata": {
        "colab": {
          "base_uri": "https://localhost:8080/"
        },
        "id": "a2lv6eaANjfj",
        "outputId": "8dcf0fe9-234d-4514-fef7-c336942472e2"
      },
      "outputs": [
        {
          "output_type": "stream",
          "name": "stdout",
          "text": [
            "Looking in indexes: https://pypi.org/simple, https://us-python.pkg.dev/colab-wheels/public/simple/\n",
            "Requirement already satisfied: opencv-python in /usr/local/lib/python3.10/dist-packages (4.7.0.72)\n",
            "Requirement already satisfied: numpy>=1.21.2 in /usr/local/lib/python3.10/dist-packages (from opencv-python) (1.22.4)\n"
          ]
        }
      ],
      "source": [
        "!pip install opencv-python"
      ]
    },
    {
      "cell_type": "code",
      "source": [
        "import cv2\n",
        "import os\n",
        "\n",
        "# Define the directory where the images are located\n",
        "directory = '/content/images'\n",
        "\n",
        "# Get a list of all the image filenames in the directory\n",
        "image_files = os.listdir(directory)\n",
        "\n",
        "# Iterate over each image file\n",
        "for filename in image_files:\n",
        "    # Construct the full path to the image file\n",
        "    image_path = os.path.join(directory, filename)\n",
        "\n",
        "    # Load the image\n",
        "    image = cv2.imread(image_path)\n",
        "\n",
        "    # Convert the image to grayscale\n",
        "    gray_image = cv2.cvtColor(image, cv2.COLOR_BGR2GRAY)\n",
        "\n",
        "    # Save the grayscale image in PNG format\n",
        "    gray_image_path = os.path.join(directory, f'grayscale_{filename}.png')\n",
        "    cv2.imwrite(gray_image_path, gray_image)\n",
        "\n",
        "    print(f\"Converted {filename} to grayscale.\")\n"
      ],
      "metadata": {
        "colab": {
          "base_uri": "https://localhost:8080/"
        },
        "id": "kNFikSnVO0qv",
        "outputId": "8b302e4f-86c9-424d-d9e4-770597c8a0f3"
      },
      "execution_count": 7,
      "outputs": [
        {
          "output_type": "stream",
          "name": "stdout",
          "text": [
            "Converted images (17).jfif to grayscale.\n",
            "Converted download (11).jfif to grayscale.\n",
            "Converted images (68).jfif to grayscale.\n",
            "Converted download (24).jfif to grayscale.\n",
            "Converted download (26).jfif to grayscale.\n",
            "Converted images (65).jfif to grayscale.\n",
            "Converted images (45).jfif to grayscale.\n",
            "Converted download (18).jfif to grayscale.\n",
            "Converted images (60).jfif to grayscale.\n",
            "Converted images (11).jfif to grayscale.\n",
            "Converted download (13).jfif to grayscale.\n",
            "Converted download (7).jfif to grayscale.\n",
            "Converted images (53).jfif to grayscale.\n",
            "Converted download (2).jfif to grayscale.\n",
            "Converted images (15).jfif to grayscale.\n",
            "Converted images (42).jfif to grayscale.\n",
            "Converted images (33).jfif to grayscale.\n",
            "Converted download (25).jfif to grayscale.\n",
            "Converted images (47).jfif to grayscale.\n",
            "Converted images (24).jfif to grayscale.\n",
            "Converted download (16).jfif to grayscale.\n",
            "Converted images (36).jfif to grayscale.\n",
            "Converted images (56).jfif to grayscale.\n",
            "Converted images (55).jfif to grayscale.\n",
            "Converted images (16).jfif to grayscale.\n",
            "Converted download (12).jfif to grayscale.\n",
            "Converted images (20).jfif to grayscale.\n",
            "Converted images (61).jfif to grayscale.\n",
            "Converted download (15).jfif to grayscale.\n",
            "Converted images (2).jfif to grayscale.\n",
            "Converted download (27).jfif to grayscale.\n",
            "Converted images (32).jfif to grayscale.\n",
            "Converted download (14).jfif to grayscale.\n",
            "Converted images (25).jfif to grayscale.\n",
            "Converted download (22).jfif to grayscale.\n",
            "Converted images (59).jfif to grayscale.\n",
            "Converted images (44).jfif to grayscale.\n",
            "Converted images (63).jfif to grayscale.\n",
            "Converted images (5).jfif to grayscale.\n",
            "Converted images (58).jfif to grayscale.\n",
            "Converted images (26).jfif to grayscale.\n",
            "Converted images (41).jfif to grayscale.\n",
            "Converted images (64).jfif to grayscale.\n",
            "Converted download (19).jfif to grayscale.\n",
            "Converted download (6).jfif to grayscale.\n",
            "Converted images (1).jfif to grayscale.\n",
            "Converted download (21).jfif to grayscale.\n",
            "Converted images (62).jfif to grayscale.\n",
            "Converted images (35).jfif to grayscale.\n",
            "Converted images (14).jfif to grayscale.\n",
            "Converted download (29).jfif to grayscale.\n",
            "Converted images (29).jfif to grayscale.\n",
            "Converted images (3).jfif to grayscale.\n",
            "Converted download (1).jfif to grayscale.\n",
            "Converted download (20).jfif to grayscale.\n",
            "Converted images (9).jfif to grayscale.\n",
            "Converted download (8).jfif to grayscale.\n",
            "Converted images.jfif to grayscale.\n",
            "Converted images (19).jfif to grayscale.\n",
            "Converted images (22).jfif to grayscale.\n",
            "Converted images (23).jfif to grayscale.\n",
            "Converted images (12).jfif to grayscale.\n",
            "Converted images (49).jfif to grayscale.\n",
            "Converted download (17).jfif to grayscale.\n",
            "Converted images (66).jfif to grayscale.\n",
            "Converted images (51).jfif to grayscale.\n",
            "Converted images (28).jfif to grayscale.\n",
            "Converted images (27).jfif to grayscale.\n",
            "Converted download (30).jfif to grayscale.\n",
            "Converted images (13).jfif to grayscale.\n",
            "Converted images (67).jfif to grayscale.\n",
            "Converted images (7).jfif to grayscale.\n",
            "Converted download (10).jfif to grayscale.\n",
            "Converted images (10).jfif to grayscale.\n",
            "Converted images (39).jfif to grayscale.\n",
            "Converted images (48).jfif to grayscale.\n",
            "Converted images (6).jfif to grayscale.\n",
            "Converted download (23).jfif to grayscale.\n",
            "Converted images (46).jfif to grayscale.\n",
            "Converted download (28).jfif to grayscale.\n",
            "Converted download.jfif to grayscale.\n",
            "Converted images (4).jfif to grayscale.\n",
            "Converted images (52).jfif to grayscale.\n",
            "Converted download (5).jfif to grayscale.\n",
            "Converted images (37).jfif to grayscale.\n",
            "Converted images (34).jfif to grayscale.\n",
            "Converted images (31).jfif to grayscale.\n",
            "Converted images (38).jfif to grayscale.\n",
            "Converted images (18).jfif to grayscale.\n",
            "Converted images (50).jfif to grayscale.\n",
            "Converted download (3).jfif to grayscale.\n",
            "Converted images (8).jfif to grayscale.\n",
            "Converted images (57).jfif to grayscale.\n",
            "Converted download (4).jfif to grayscale.\n",
            "Converted images (43).jfif to grayscale.\n",
            "Converted images (30).jfif to grayscale.\n",
            "Converted images (54).jfif to grayscale.\n",
            "Converted images (21).jfif to grayscale.\n",
            "Converted download (9).jfif to grayscale.\n",
            "Converted images (40).jfif to grayscale.\n"
          ]
        }
      ]
    }
  ]
}